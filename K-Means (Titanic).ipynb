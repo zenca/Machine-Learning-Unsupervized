{
 "cells": [
  {
   "cell_type": "markdown",
   "id": "fa96e1c8",
   "metadata": {},
   "source": [
    "# K-Means (Titanic)"
   ]
  },
  {
   "cell_type": "code",
   "execution_count": 1,
   "id": "4d93c51d",
   "metadata": {},
   "outputs": [],
   "source": [
    "import numpy as np\n",
    "import matplotlib.pyplot as plt\n",
    "import pandas as pd\n",
    "import seaborn as sns"
   ]
  },
  {
   "cell_type": "code",
   "execution_count": 17,
   "id": "a3cc0792",
   "metadata": {},
   "outputs": [
    {
     "data": {
      "text/html": [
       "<div>\n",
       "<style scoped>\n",
       "    .dataframe tbody tr th:only-of-type {\n",
       "        vertical-align: middle;\n",
       "    }\n",
       "\n",
       "    .dataframe tbody tr th {\n",
       "        vertical-align: top;\n",
       "    }\n",
       "\n",
       "    .dataframe thead th {\n",
       "        text-align: right;\n",
       "    }\n",
       "</style>\n",
       "<table border=\"1\" class=\"dataframe\">\n",
       "  <thead>\n",
       "    <tr style=\"text-align: right;\">\n",
       "      <th></th>\n",
       "      <th>Pclass</th>\n",
       "      <th>SibSp</th>\n",
       "      <th>Parch</th>\n",
       "      <th>Fare</th>\n",
       "      <th>Sex Encode</th>\n",
       "      <th>Embarked-2</th>\n",
       "      <th>Age-sep</th>\n",
       "    </tr>\n",
       "  </thead>\n",
       "  <tbody>\n",
       "    <tr>\n",
       "      <th>0</th>\n",
       "      <td>3</td>\n",
       "      <td>1</td>\n",
       "      <td>0</td>\n",
       "      <td>130.982998</td>\n",
       "      <td>1</td>\n",
       "      <td>2</td>\n",
       "      <td>1</td>\n",
       "    </tr>\n",
       "    <tr>\n",
       "      <th>1</th>\n",
       "      <td>1</td>\n",
       "      <td>1</td>\n",
       "      <td>0</td>\n",
       "      <td>712.833000</td>\n",
       "      <td>0</td>\n",
       "      <td>0</td>\n",
       "      <td>3</td>\n",
       "    </tr>\n",
       "    <tr>\n",
       "      <th>2</th>\n",
       "      <td>3</td>\n",
       "      <td>0</td>\n",
       "      <td>0</td>\n",
       "      <td>7.925000</td>\n",
       "      <td>0</td>\n",
       "      <td>2</td>\n",
       "      <td>2</td>\n",
       "    </tr>\n",
       "    <tr>\n",
       "      <th>3</th>\n",
       "      <td>1</td>\n",
       "      <td>1</td>\n",
       "      <td>0</td>\n",
       "      <td>130.982998</td>\n",
       "      <td>0</td>\n",
       "      <td>2</td>\n",
       "      <td>3</td>\n",
       "    </tr>\n",
       "    <tr>\n",
       "      <th>4</th>\n",
       "      <td>3</td>\n",
       "      <td>0</td>\n",
       "      <td>0</td>\n",
       "      <td>130.982998</td>\n",
       "      <td>1</td>\n",
       "      <td>2</td>\n",
       "      <td>3</td>\n",
       "    </tr>\n",
       "    <tr>\n",
       "      <th>...</th>\n",
       "      <td>...</td>\n",
       "      <td>...</td>\n",
       "      <td>...</td>\n",
       "      <td>...</td>\n",
       "      <td>...</td>\n",
       "      <td>...</td>\n",
       "      <td>...</td>\n",
       "    </tr>\n",
       "    <tr>\n",
       "      <th>886</th>\n",
       "      <td>2</td>\n",
       "      <td>0</td>\n",
       "      <td>0</td>\n",
       "      <td>13.000000</td>\n",
       "      <td>1</td>\n",
       "      <td>2</td>\n",
       "      <td>2</td>\n",
       "    </tr>\n",
       "    <tr>\n",
       "      <th>887</th>\n",
       "      <td>1</td>\n",
       "      <td>0</td>\n",
       "      <td>0</td>\n",
       "      <td>30.000000</td>\n",
       "      <td>0</td>\n",
       "      <td>2</td>\n",
       "      <td>1</td>\n",
       "    </tr>\n",
       "    <tr>\n",
       "      <th>888</th>\n",
       "      <td>3</td>\n",
       "      <td>1</td>\n",
       "      <td>2</td>\n",
       "      <td>130.982998</td>\n",
       "      <td>0</td>\n",
       "      <td>2</td>\n",
       "      <td>2</td>\n",
       "    </tr>\n",
       "    <tr>\n",
       "      <th>889</th>\n",
       "      <td>1</td>\n",
       "      <td>0</td>\n",
       "      <td>0</td>\n",
       "      <td>30.000000</td>\n",
       "      <td>1</td>\n",
       "      <td>0</td>\n",
       "      <td>2</td>\n",
       "    </tr>\n",
       "    <tr>\n",
       "      <th>890</th>\n",
       "      <td>3</td>\n",
       "      <td>0</td>\n",
       "      <td>0</td>\n",
       "      <td>130.982998</td>\n",
       "      <td>1</td>\n",
       "      <td>1</td>\n",
       "      <td>2</td>\n",
       "    </tr>\n",
       "  </tbody>\n",
       "</table>\n",
       "<p>891 rows × 7 columns</p>\n",
       "</div>"
      ],
      "text/plain": [
       "     Pclass  SibSp  Parch        Fare  Sex Encode  Embarked-2  Age-sep\n",
       "0         3      1      0  130.982998           1           2        1\n",
       "1         1      1      0  712.833000           0           0        3\n",
       "2         3      0      0    7.925000           0           2        2\n",
       "3         1      1      0  130.982998           0           2        3\n",
       "4         3      0      0  130.982998           1           2        3\n",
       "..      ...    ...    ...         ...         ...         ...      ...\n",
       "886       2      0      0   13.000000           1           2        2\n",
       "887       1      0      0   30.000000           0           2        1\n",
       "888       3      1      2  130.982998           0           2        2\n",
       "889       1      0      0   30.000000           1           0        2\n",
       "890       3      0      0  130.982998           1           1        2\n",
       "\n",
       "[891 rows x 7 columns]"
      ]
     },
     "execution_count": 17,
     "metadata": {},
     "output_type": "execute_result"
    }
   ],
   "source": [
    "train1=pd.read_csv(r'C:\\Users\\Nelson\\Documents\\Sync\\Proj_Titanic\\Datas\\train2.csv',sep=',')\n",
    "trainP=train1.drop(['Unnamed: 0'],axis=1)\n",
    "trainP\n",
    "trainA=trainP.copy()\n",
    "trainA"
   ]
  },
  {
   "cell_type": "code",
   "execution_count": 3,
   "id": "cf196365",
   "metadata": {},
   "outputs": [
    {
     "data": {
      "text/html": [
       "<div>\n",
       "<style scoped>\n",
       "    .dataframe tbody tr th:only-of-type {\n",
       "        vertical-align: middle;\n",
       "    }\n",
       "\n",
       "    .dataframe tbody tr th {\n",
       "        vertical-align: top;\n",
       "    }\n",
       "\n",
       "    .dataframe thead th {\n",
       "        text-align: right;\n",
       "    }\n",
       "</style>\n",
       "<table border=\"1\" class=\"dataframe\">\n",
       "  <thead>\n",
       "    <tr style=\"text-align: right;\">\n",
       "      <th></th>\n",
       "      <th>Pclass</th>\n",
       "      <th>SibSp</th>\n",
       "      <th>Parch</th>\n",
       "      <th>Fare</th>\n",
       "      <th>Sex Encode</th>\n",
       "      <th>Embarked-2</th>\n",
       "      <th>Age-sep</th>\n",
       "    </tr>\n",
       "  </thead>\n",
       "  <tbody>\n",
       "    <tr>\n",
       "      <th>count</th>\n",
       "      <td>891.000000</td>\n",
       "      <td>891.000000</td>\n",
       "      <td>891.000000</td>\n",
       "      <td>891.000000</td>\n",
       "      <td>891.000000</td>\n",
       "      <td>891.000000</td>\n",
       "      <td>891.000000</td>\n",
       "    </tr>\n",
       "    <tr>\n",
       "      <th>mean</th>\n",
       "      <td>2.308642</td>\n",
       "      <td>0.523008</td>\n",
       "      <td>0.381594</td>\n",
       "      <td>130.982998</td>\n",
       "      <td>0.647587</td>\n",
       "      <td>1.538721</td>\n",
       "      <td>2.086420</td>\n",
       "    </tr>\n",
       "    <tr>\n",
       "      <th>std</th>\n",
       "      <td>0.836071</td>\n",
       "      <td>1.102743</td>\n",
       "      <td>0.806057</td>\n",
       "      <td>148.628352</td>\n",
       "      <td>0.477990</td>\n",
       "      <td>0.794231</td>\n",
       "      <td>1.151621</td>\n",
       "    </tr>\n",
       "    <tr>\n",
       "      <th>min</th>\n",
       "      <td>1.000000</td>\n",
       "      <td>0.000000</td>\n",
       "      <td>0.000000</td>\n",
       "      <td>0.000000</td>\n",
       "      <td>0.000000</td>\n",
       "      <td>0.000000</td>\n",
       "      <td>0.000000</td>\n",
       "    </tr>\n",
       "    <tr>\n",
       "      <th>25%</th>\n",
       "      <td>2.000000</td>\n",
       "      <td>0.000000</td>\n",
       "      <td>0.000000</td>\n",
       "      <td>39.000000</td>\n",
       "      <td>0.000000</td>\n",
       "      <td>1.000000</td>\n",
       "      <td>1.000000</td>\n",
       "    </tr>\n",
       "    <tr>\n",
       "      <th>50%</th>\n",
       "      <td>3.000000</td>\n",
       "      <td>0.000000</td>\n",
       "      <td>0.000000</td>\n",
       "      <td>130.982998</td>\n",
       "      <td>1.000000</td>\n",
       "      <td>2.000000</td>\n",
       "      <td>2.000000</td>\n",
       "    </tr>\n",
       "    <tr>\n",
       "      <th>75%</th>\n",
       "      <td>3.000000</td>\n",
       "      <td>1.000000</td>\n",
       "      <td>0.000000</td>\n",
       "      <td>130.982998</td>\n",
       "      <td>1.000000</td>\n",
       "      <td>2.000000</td>\n",
       "      <td>3.000000</td>\n",
       "    </tr>\n",
       "    <tr>\n",
       "      <th>max</th>\n",
       "      <td>3.000000</td>\n",
       "      <td>8.000000</td>\n",
       "      <td>6.000000</td>\n",
       "      <td>910.792000</td>\n",
       "      <td>1.000000</td>\n",
       "      <td>3.000000</td>\n",
       "      <td>6.000000</td>\n",
       "    </tr>\n",
       "  </tbody>\n",
       "</table>\n",
       "</div>"
      ],
      "text/plain": [
       "           Pclass       SibSp       Parch        Fare  Sex Encode  Embarked-2  \\\n",
       "count  891.000000  891.000000  891.000000  891.000000  891.000000  891.000000   \n",
       "mean     2.308642    0.523008    0.381594  130.982998    0.647587    1.538721   \n",
       "std      0.836071    1.102743    0.806057  148.628352    0.477990    0.794231   \n",
       "min      1.000000    0.000000    0.000000    0.000000    0.000000    0.000000   \n",
       "25%      2.000000    0.000000    0.000000   39.000000    0.000000    1.000000   \n",
       "50%      3.000000    0.000000    0.000000  130.982998    1.000000    2.000000   \n",
       "75%      3.000000    1.000000    0.000000  130.982998    1.000000    2.000000   \n",
       "max      3.000000    8.000000    6.000000  910.792000    1.000000    3.000000   \n",
       "\n",
       "          Age-sep  \n",
       "count  891.000000  \n",
       "mean     2.086420  \n",
       "std      1.151621  \n",
       "min      0.000000  \n",
       "25%      1.000000  \n",
       "50%      2.000000  \n",
       "75%      3.000000  \n",
       "max      6.000000  "
      ]
     },
     "execution_count": 3,
     "metadata": {},
     "output_type": "execute_result"
    }
   ],
   "source": [
    "trainP.describe()\n",
    "#El Fare su mean está alto se podría normalizar para que todos queden entre 0 y 1"
   ]
  },
  {
   "cell_type": "code",
   "execution_count": 4,
   "id": "c659c9c9",
   "metadata": {},
   "outputs": [],
   "source": [
    "#trainA "
   ]
  },
  {
   "cell_type": "code",
   "execution_count": 3,
   "id": "fc67e1a0",
   "metadata": {},
   "outputs": [
    {
     "data": {
      "text/plain": [
       "\"from sklearn.preprocessing import MinMaxScaler\\nnormalizador1=MinMaxScaler()\\ntrainA=pd.DataFrame(normalizador1.fit_transform(trainA), columns=['Pclass','SibSp','Parch','Fare','Sex Encode','Embarked-2','Age-sep'])\\ntrainA.describe()\""
      ]
     },
     "execution_count": 3,
     "metadata": {},
     "output_type": "execute_result"
    }
   ],
   "source": [
    "#Normalizo los datos \n",
    "\"\"\"from sklearn.preprocessing import MinMaxScaler\n",
    "normalizador1=MinMaxScaler()\n",
    "trainA=pd.DataFrame(normalizador1.fit_transform(trainA), columns=['Pclass','SibSp','Parch','Fare','Sex Encode','Embarked-2','Age-sep'])\n",
    "trainA.describe()\"\"\""
   ]
  },
  {
   "cell_type": "code",
   "execution_count": 18,
   "id": "297f4c93",
   "metadata": {},
   "outputs": [
    {
     "data": {
      "text/html": [
       "<div>\n",
       "<style scoped>\n",
       "    .dataframe tbody tr th:only-of-type {\n",
       "        vertical-align: middle;\n",
       "    }\n",
       "\n",
       "    .dataframe tbody tr th {\n",
       "        vertical-align: top;\n",
       "    }\n",
       "\n",
       "    .dataframe thead th {\n",
       "        text-align: right;\n",
       "    }\n",
       "</style>\n",
       "<table border=\"1\" class=\"dataframe\">\n",
       "  <thead>\n",
       "    <tr style=\"text-align: right;\">\n",
       "      <th></th>\n",
       "      <th>Pclass</th>\n",
       "      <th>SibSp</th>\n",
       "      <th>Parch</th>\n",
       "      <th>Fare</th>\n",
       "      <th>Sex Encode</th>\n",
       "      <th>Embarked-2</th>\n",
       "      <th>Age-sep</th>\n",
       "    </tr>\n",
       "  </thead>\n",
       "  <tbody>\n",
       "    <tr>\n",
       "      <th>0</th>\n",
       "      <td>0.827377</td>\n",
       "      <td>0.432793</td>\n",
       "      <td>-0.473674</td>\n",
       "      <td>0.000000</td>\n",
       "      <td>0.737695</td>\n",
       "      <td>0.581114</td>\n",
       "      <td>-0.943913</td>\n",
       "    </tr>\n",
       "    <tr>\n",
       "      <th>1</th>\n",
       "      <td>-1.566107</td>\n",
       "      <td>0.432793</td>\n",
       "      <td>-0.473674</td>\n",
       "      <td>3.916997</td>\n",
       "      <td>-1.355574</td>\n",
       "      <td>-1.938460</td>\n",
       "      <td>0.793745</td>\n",
       "    </tr>\n",
       "    <tr>\n",
       "      <th>2</th>\n",
       "      <td>0.827377</td>\n",
       "      <td>-0.474545</td>\n",
       "      <td>-0.473674</td>\n",
       "      <td>-0.828423</td>\n",
       "      <td>-1.355574</td>\n",
       "      <td>0.581114</td>\n",
       "      <td>-0.075084</td>\n",
       "    </tr>\n",
       "    <tr>\n",
       "      <th>3</th>\n",
       "      <td>-1.566107</td>\n",
       "      <td>0.432793</td>\n",
       "      <td>-0.473674</td>\n",
       "      <td>0.000000</td>\n",
       "      <td>-1.355574</td>\n",
       "      <td>0.581114</td>\n",
       "      <td>0.793745</td>\n",
       "    </tr>\n",
       "    <tr>\n",
       "      <th>4</th>\n",
       "      <td>0.827377</td>\n",
       "      <td>-0.474545</td>\n",
       "      <td>-0.473674</td>\n",
       "      <td>0.000000</td>\n",
       "      <td>0.737695</td>\n",
       "      <td>0.581114</td>\n",
       "      <td>0.793745</td>\n",
       "    </tr>\n",
       "    <tr>\n",
       "      <th>...</th>\n",
       "      <td>...</td>\n",
       "      <td>...</td>\n",
       "      <td>...</td>\n",
       "      <td>...</td>\n",
       "      <td>...</td>\n",
       "      <td>...</td>\n",
       "      <td>...</td>\n",
       "    </tr>\n",
       "    <tr>\n",
       "      <th>886</th>\n",
       "      <td>-0.369365</td>\n",
       "      <td>-0.474545</td>\n",
       "      <td>-0.473674</td>\n",
       "      <td>-0.794258</td>\n",
       "      <td>0.737695</td>\n",
       "      <td>0.581114</td>\n",
       "      <td>-0.075084</td>\n",
       "    </tr>\n",
       "    <tr>\n",
       "      <th>887</th>\n",
       "      <td>-1.566107</td>\n",
       "      <td>-0.474545</td>\n",
       "      <td>-0.473674</td>\n",
       "      <td>-0.679815</td>\n",
       "      <td>-1.355574</td>\n",
       "      <td>0.581114</td>\n",
       "      <td>-0.943913</td>\n",
       "    </tr>\n",
       "    <tr>\n",
       "      <th>888</th>\n",
       "      <td>0.827377</td>\n",
       "      <td>0.432793</td>\n",
       "      <td>2.008933</td>\n",
       "      <td>0.000000</td>\n",
       "      <td>-1.355574</td>\n",
       "      <td>0.581114</td>\n",
       "      <td>-0.075084</td>\n",
       "    </tr>\n",
       "    <tr>\n",
       "      <th>889</th>\n",
       "      <td>-1.566107</td>\n",
       "      <td>-0.474545</td>\n",
       "      <td>-0.473674</td>\n",
       "      <td>-0.679815</td>\n",
       "      <td>0.737695</td>\n",
       "      <td>-1.938460</td>\n",
       "      <td>-0.075084</td>\n",
       "    </tr>\n",
       "    <tr>\n",
       "      <th>890</th>\n",
       "      <td>0.827377</td>\n",
       "      <td>-0.474545</td>\n",
       "      <td>-0.473674</td>\n",
       "      <td>0.000000</td>\n",
       "      <td>0.737695</td>\n",
       "      <td>-0.678673</td>\n",
       "      <td>-0.075084</td>\n",
       "    </tr>\n",
       "  </tbody>\n",
       "</table>\n",
       "<p>891 rows × 7 columns</p>\n",
       "</div>"
      ],
      "text/plain": [
       "       Pclass     SibSp     Parch      Fare  Sex Encode  Embarked-2   Age-sep\n",
       "0    0.827377  0.432793 -0.473674  0.000000    0.737695    0.581114 -0.943913\n",
       "1   -1.566107  0.432793 -0.473674  3.916997   -1.355574   -1.938460  0.793745\n",
       "2    0.827377 -0.474545 -0.473674 -0.828423   -1.355574    0.581114 -0.075084\n",
       "3   -1.566107  0.432793 -0.473674  0.000000   -1.355574    0.581114  0.793745\n",
       "4    0.827377 -0.474545 -0.473674  0.000000    0.737695    0.581114  0.793745\n",
       "..        ...       ...       ...       ...         ...         ...       ...\n",
       "886 -0.369365 -0.474545 -0.473674 -0.794258    0.737695    0.581114 -0.075084\n",
       "887 -1.566107 -0.474545 -0.473674 -0.679815   -1.355574    0.581114 -0.943913\n",
       "888  0.827377  0.432793  2.008933  0.000000   -1.355574    0.581114 -0.075084\n",
       "889 -1.566107 -0.474545 -0.473674 -0.679815    0.737695   -1.938460 -0.075084\n",
       "890  0.827377 -0.474545 -0.473674  0.000000    0.737695   -0.678673 -0.075084\n",
       "\n",
       "[891 rows x 7 columns]"
      ]
     },
     "execution_count": 18,
     "metadata": {},
     "output_type": "execute_result"
    }
   ],
   "source": [
    "#Normalizo con z_score\n",
    "from sklearn.preprocessing import StandardScaler\n",
    "normalizador2=StandardScaler()\n",
    "trainB=normalizador2.fit_transform(trainA)\n",
    "trainB=pd.DataFrame(trainB, columns=['Pclass','SibSp','Parch','Fare','Sex Encode','Embarked-2','Age-sep'])\n",
    "#trainB.describe()\n",
    "trainB"
   ]
  },
  {
   "cell_type": "code",
   "execution_count": 19,
   "id": "2ffad815",
   "metadata": {},
   "outputs": [
    {
     "data": {
      "text/html": [
       "<div>\n",
       "<style scoped>\n",
       "    .dataframe tbody tr th:only-of-type {\n",
       "        vertical-align: middle;\n",
       "    }\n",
       "\n",
       "    .dataframe tbody tr th {\n",
       "        vertical-align: top;\n",
       "    }\n",
       "\n",
       "    .dataframe thead th {\n",
       "        text-align: right;\n",
       "    }\n",
       "</style>\n",
       "<table border=\"1\" class=\"dataframe\">\n",
       "  <thead>\n",
       "    <tr style=\"text-align: right;\">\n",
       "      <th></th>\n",
       "      <th>Pclass</th>\n",
       "      <th>SibSp</th>\n",
       "      <th>Parch</th>\n",
       "      <th>Fare</th>\n",
       "      <th>Sex Encode</th>\n",
       "      <th>Embarked-2</th>\n",
       "      <th>Age-sep</th>\n",
       "    </tr>\n",
       "  </thead>\n",
       "  <tbody>\n",
       "    <tr>\n",
       "      <th>0</th>\n",
       "      <td>-0.369365</td>\n",
       "      <td>-0.474545</td>\n",
       "      <td>-0.473674</td>\n",
       "      <td>-0.706742</td>\n",
       "      <td>0.737695</td>\n",
       "      <td>0.581114</td>\n",
       "      <td>0.793745</td>\n",
       "    </tr>\n",
       "    <tr>\n",
       "      <th>1</th>\n",
       "      <td>-0.369365</td>\n",
       "      <td>1.340132</td>\n",
       "      <td>-0.473674</td>\n",
       "      <td>0.000000</td>\n",
       "      <td>0.737695</td>\n",
       "      <td>0.581114</td>\n",
       "      <td>-0.943913</td>\n",
       "    </tr>\n",
       "    <tr>\n",
       "      <th>2</th>\n",
       "      <td>-0.369365</td>\n",
       "      <td>0.432793</td>\n",
       "      <td>0.767630</td>\n",
       "      <td>-0.706742</td>\n",
       "      <td>-1.355574</td>\n",
       "      <td>0.581114</td>\n",
       "      <td>-1.812742</td>\n",
       "    </tr>\n",
       "    <tr>\n",
       "      <th>3</th>\n",
       "      <td>0.827377</td>\n",
       "      <td>-0.474545</td>\n",
       "      <td>-0.473674</td>\n",
       "      <td>-0.353031</td>\n",
       "      <td>0.737695</td>\n",
       "      <td>0.581114</td>\n",
       "      <td>-0.943913</td>\n",
       "    </tr>\n",
       "  </tbody>\n",
       "</table>\n",
       "</div>"
      ],
      "text/plain": [
       "     Pclass     SibSp     Parch      Fare  Sex Encode  Embarked-2   Age-sep\n",
       "0 -0.369365 -0.474545 -0.473674 -0.706742    0.737695    0.581114  0.793745\n",
       "1 -0.369365  1.340132 -0.473674  0.000000    0.737695    0.581114 -0.943913\n",
       "2 -0.369365  0.432793  0.767630 -0.706742   -1.355574    0.581114 -1.812742\n",
       "3  0.827377 -0.474545 -0.473674 -0.353031    0.737695    0.581114 -0.943913"
      ]
     },
     "execution_count": 19,
     "metadata": {},
     "output_type": "execute_result"
    }
   ],
   "source": [
    "#Separo 4 filas\n",
    "test1=pd.DataFrame(trainB.loc[[20,120,530,640]],columns=['Pclass','SibSp','Parch','Fare','Sex Encode','Embarked-2','Age-sep'])\n",
    "test1=test1.reset_index(drop=True)\n",
    "test1"
   ]
  },
  {
   "cell_type": "code",
   "execution_count": 20,
   "id": "bd1b339a",
   "metadata": {},
   "outputs": [
    {
     "data": {
      "text/html": [
       "<div>\n",
       "<style scoped>\n",
       "    .dataframe tbody tr th:only-of-type {\n",
       "        vertical-align: middle;\n",
       "    }\n",
       "\n",
       "    .dataframe tbody tr th {\n",
       "        vertical-align: top;\n",
       "    }\n",
       "\n",
       "    .dataframe thead th {\n",
       "        text-align: right;\n",
       "    }\n",
       "</style>\n",
       "<table border=\"1\" class=\"dataframe\">\n",
       "  <thead>\n",
       "    <tr style=\"text-align: right;\">\n",
       "      <th></th>\n",
       "      <th>Pclass</th>\n",
       "      <th>SibSp</th>\n",
       "      <th>Parch</th>\n",
       "      <th>Fare</th>\n",
       "      <th>Sex Encode</th>\n",
       "      <th>Embarked-2</th>\n",
       "      <th>Age-sep</th>\n",
       "    </tr>\n",
       "  </thead>\n",
       "  <tbody>\n",
       "    <tr>\n",
       "      <th>0</th>\n",
       "      <td>0.827377</td>\n",
       "      <td>0.432793</td>\n",
       "      <td>-0.473674</td>\n",
       "      <td>0.000000</td>\n",
       "      <td>0.737695</td>\n",
       "      <td>0.581114</td>\n",
       "      <td>-0.943913</td>\n",
       "    </tr>\n",
       "    <tr>\n",
       "      <th>1</th>\n",
       "      <td>-1.566107</td>\n",
       "      <td>0.432793</td>\n",
       "      <td>-0.473674</td>\n",
       "      <td>3.916997</td>\n",
       "      <td>-1.355574</td>\n",
       "      <td>-1.938460</td>\n",
       "      <td>0.793745</td>\n",
       "    </tr>\n",
       "    <tr>\n",
       "      <th>2</th>\n",
       "      <td>0.827377</td>\n",
       "      <td>-0.474545</td>\n",
       "      <td>-0.473674</td>\n",
       "      <td>-0.828423</td>\n",
       "      <td>-1.355574</td>\n",
       "      <td>0.581114</td>\n",
       "      <td>-0.075084</td>\n",
       "    </tr>\n",
       "    <tr>\n",
       "      <th>3</th>\n",
       "      <td>-1.566107</td>\n",
       "      <td>0.432793</td>\n",
       "      <td>-0.473674</td>\n",
       "      <td>0.000000</td>\n",
       "      <td>-1.355574</td>\n",
       "      <td>0.581114</td>\n",
       "      <td>0.793745</td>\n",
       "    </tr>\n",
       "    <tr>\n",
       "      <th>4</th>\n",
       "      <td>0.827377</td>\n",
       "      <td>-0.474545</td>\n",
       "      <td>-0.473674</td>\n",
       "      <td>0.000000</td>\n",
       "      <td>0.737695</td>\n",
       "      <td>0.581114</td>\n",
       "      <td>0.793745</td>\n",
       "    </tr>\n",
       "    <tr>\n",
       "      <th>...</th>\n",
       "      <td>...</td>\n",
       "      <td>...</td>\n",
       "      <td>...</td>\n",
       "      <td>...</td>\n",
       "      <td>...</td>\n",
       "      <td>...</td>\n",
       "      <td>...</td>\n",
       "    </tr>\n",
       "    <tr>\n",
       "      <th>886</th>\n",
       "      <td>-0.369365</td>\n",
       "      <td>-0.474545</td>\n",
       "      <td>-0.473674</td>\n",
       "      <td>-0.794258</td>\n",
       "      <td>0.737695</td>\n",
       "      <td>0.581114</td>\n",
       "      <td>-0.075084</td>\n",
       "    </tr>\n",
       "    <tr>\n",
       "      <th>887</th>\n",
       "      <td>-1.566107</td>\n",
       "      <td>-0.474545</td>\n",
       "      <td>-0.473674</td>\n",
       "      <td>-0.679815</td>\n",
       "      <td>-1.355574</td>\n",
       "      <td>0.581114</td>\n",
       "      <td>-0.943913</td>\n",
       "    </tr>\n",
       "    <tr>\n",
       "      <th>888</th>\n",
       "      <td>0.827377</td>\n",
       "      <td>0.432793</td>\n",
       "      <td>2.008933</td>\n",
       "      <td>0.000000</td>\n",
       "      <td>-1.355574</td>\n",
       "      <td>0.581114</td>\n",
       "      <td>-0.075084</td>\n",
       "    </tr>\n",
       "    <tr>\n",
       "      <th>889</th>\n",
       "      <td>-1.566107</td>\n",
       "      <td>-0.474545</td>\n",
       "      <td>-0.473674</td>\n",
       "      <td>-0.679815</td>\n",
       "      <td>0.737695</td>\n",
       "      <td>-1.938460</td>\n",
       "      <td>-0.075084</td>\n",
       "    </tr>\n",
       "    <tr>\n",
       "      <th>890</th>\n",
       "      <td>0.827377</td>\n",
       "      <td>-0.474545</td>\n",
       "      <td>-0.473674</td>\n",
       "      <td>0.000000</td>\n",
       "      <td>0.737695</td>\n",
       "      <td>-0.678673</td>\n",
       "      <td>-0.075084</td>\n",
       "    </tr>\n",
       "  </tbody>\n",
       "</table>\n",
       "<p>887 rows × 7 columns</p>\n",
       "</div>"
      ],
      "text/plain": [
       "       Pclass     SibSp     Parch      Fare  Sex Encode  Embarked-2   Age-sep\n",
       "0    0.827377  0.432793 -0.473674  0.000000    0.737695    0.581114 -0.943913\n",
       "1   -1.566107  0.432793 -0.473674  3.916997   -1.355574   -1.938460  0.793745\n",
       "2    0.827377 -0.474545 -0.473674 -0.828423   -1.355574    0.581114 -0.075084\n",
       "3   -1.566107  0.432793 -0.473674  0.000000   -1.355574    0.581114  0.793745\n",
       "4    0.827377 -0.474545 -0.473674  0.000000    0.737695    0.581114  0.793745\n",
       "..        ...       ...       ...       ...         ...         ...       ...\n",
       "886 -0.369365 -0.474545 -0.473674 -0.794258    0.737695    0.581114 -0.075084\n",
       "887 -1.566107 -0.474545 -0.473674 -0.679815   -1.355574    0.581114 -0.943913\n",
       "888  0.827377  0.432793  2.008933  0.000000   -1.355574    0.581114 -0.075084\n",
       "889 -1.566107 -0.474545 -0.473674 -0.679815    0.737695   -1.938460 -0.075084\n",
       "890  0.827377 -0.474545 -0.473674  0.000000    0.737695   -0.678673 -0.075084\n",
       "\n",
       "[887 rows x 7 columns]"
      ]
     },
     "execution_count": 20,
     "metadata": {},
     "output_type": "execute_result"
    }
   ],
   "source": [
    "#Le saco las 4 filas al conjunto inicial me queda trainC para entrenar\n",
    "trainC=trainB.drop([20,120,530,640],axis=0)\n",
    "trainC"
   ]
  },
  {
   "cell_type": "code",
   "execution_count": 21,
   "id": "6dc1fb87",
   "metadata": {},
   "outputs": [],
   "source": [
    "#Busco los mejores k con Wscc\n",
    "from sklearn.cluster import KMeans\n",
    "scd = []\n",
    "for i in range(1, 12):\n",
    "    clasificador1 = KMeans(n_clusters = i, init = 'k-means++', random_state = 42)\n",
    "    clasificador1.fit(trainC)\n",
    "    scd.append(clasificador1.inertia_)# atributo que me da Sum of squared distances of samples to their closest cluster center."
   ]
  },
  {
   "cell_type": "code",
   "execution_count": 22,
   "id": "47c164de",
   "metadata": {},
   "outputs": [
    {
     "data": {
      "text/plain": [
       "<seaborn.axisgrid.FacetGrid at 0x234bdf91a88>"
      ]
     },
     "execution_count": 22,
     "metadata": {},
     "output_type": "execute_result"
    },
    {
     "data": {
      "image/png": "[encoded data removed]",
      "text/plain": [
       "<Figure size 360x360 with 1 Axes>"
      ]
     },
     "metadata": {
      "needs_background": "light"
     },
     "output_type": "display_data"
    }
   ],
   "source": [
    "sns.relplot(x=range(1,12),y=scd,kind='line')#Parece entre 4 y 5"
   ]
  },
  {
   "cell_type": "code",
   "execution_count": 39,
   "id": "e46eb12d",
   "metadata": {},
   "outputs": [
    {
     "data": {
      "text/plain": [
       "5"
      ]
     },
     "execution_count": 39,
     "metadata": {},
     "output_type": "execute_result"
    }
   ],
   "source": [
    "#Library Knedd calcula donde decrece drasticamente la curva\n",
    "from kneed import DataGenerator, KneeLocator\n",
    "kl = KneeLocator(range(1, 12), scd, curve=\"convex\", direction=\"decreasing\")\n",
    "kl.elbow\n"
   ]
  },
  {
   "cell_type": "code",
   "execution_count": 23,
   "id": "0464903d",
   "metadata": {},
   "outputs": [],
   "source": [
    "#Uso silhouette\n",
    "from sklearn.cluster import KMeans\n",
    "from sklearn.metrics import silhouette_score\n",
    "silh = []\n",
    "for i in range(2, 12):\n",
    "    clasificador2 = KMeans(n_clusters = i, init = 'k-means++', n_init=20, random_state = 42)\n",
    "    clasificador2.fit(trainC)\n",
    "    etiquetas=clasificador2.labels_\n",
    "    silhProm=silhouette_score(trainC, etiquetas)\n",
    "    silh.append(silhProm)"
   ]
  },
  {
   "cell_type": "code",
   "execution_count": 24,
   "id": "98febc83",
   "metadata": {},
   "outputs": [
    {
     "data": {
      "text/plain": [
       "<seaborn.axisgrid.FacetGrid at 0x234be0aafc8>"
      ]
     },
     "execution_count": 24,
     "metadata": {},
     "output_type": "execute_result"
    },
    {
     "data": {
      "image/png": "[encoded data removed]",
      "text/plain": [
       "<Figure size 360x360 with 1 Axes>"
      ]
     },
     "metadata": {
      "needs_background": "light"
     },
     "output_type": "display_data"
    }
   ],
   "source": [
    "sns.relplot(x=range(2,12),y=silh,kind='line')"
   ]
  },
  {
   "cell_type": "code",
   "execution_count": 25,
   "id": "7cedfb7a",
   "metadata": {},
   "outputs": [],
   "source": [
    "#Uso calinski_harabasz\n",
    "from sklearn.cluster import KMeans\n",
    "from sklearn.metrics import calinski_harabasz_score\n",
    "chs = []\n",
    "for i in range(2, 12):\n",
    "    clasificador3 = KMeans(n_clusters = i, init = 'k-means++', n_init=20, random_state = 42)\n",
    "    clasificador3.fit(trainC)\n",
    "    etiquetas=clasificador3.labels_\n",
    "    chsProm=calinski_harabasz_score(trainC, etiquetas)\n",
    "    chs.append(chsProm)"
   ]
  },
  {
   "cell_type": "code",
   "execution_count": 26,
   "id": "4a807dc8",
   "metadata": {},
   "outputs": [
    {
     "data": {
      "text/plain": [
       "<seaborn.axisgrid.FacetGrid at 0x234be0a0d48>"
      ]
     },
     "execution_count": 26,
     "metadata": {},
     "output_type": "execute_result"
    },
    {
     "data": {
      "image/png": "[encoded data removed]",
      "text/plain": [
       "<Figure size 360x360 with 1 Axes>"
      ]
     },
     "metadata": {
      "needs_background": "light"
     },
     "output_type": "display_data"
    }
   ],
   "source": [
    "sns.relplot(x=range(2,12),y=chs,kind='line')"
   ]
  },
  {
   "cell_type": "code",
   "execution_count": 27,
   "id": "34a577a6",
   "metadata": {},
   "outputs": [],
   "source": [
    "#Uso davies_bouldin_score\n",
    "from sklearn.cluster import KMeans\n",
    "from sklearn.metrics import davies_bouldin_score\n",
    "dbs = []\n",
    "for i in range(2, 12):\n",
    "    clasificador4 = KMeans(n_clusters = i, init = 'k-means++', n_init=20, random_state = 42)\n",
    "    clasificador4.fit(trainC)\n",
    "    etiquetas=clasificador4.labels_\n",
    "    dbsProm=davies_bouldin_score(trainC, etiquetas)\n",
    "    dbs.append(dbsProm)"
   ]
  },
  {
   "cell_type": "code",
   "execution_count": 28,
   "id": "a025c40d",
   "metadata": {},
   "outputs": [
    {
     "data": {
      "text/plain": [
       "<seaborn.axisgrid.FacetGrid at 0x234be17ad88>"
      ]
     },
     "execution_count": 28,
     "metadata": {},
     "output_type": "execute_result"
    },
    {
     "data": {
      "image/png": "[encoded data removed]",
      "text/plain": [
       "<Figure size 360x360 with 1 Axes>"
      ]
     },
     "metadata": {
      "needs_background": "light"
     },
     "output_type": "display_data"
    }
   ],
   "source": [
    "sns.relplot(x=range(2,12),y=dbs,kind='line')"
   ]
  },
  {
   "cell_type": "code",
   "execution_count": 60,
   "id": "8c4330a5",
   "metadata": {},
   "outputs": [],
   "source": [
    "#Usando distorsion para el k\n",
    "from scipy.spatial.distance import cdist \n",
    "distor= []\n",
    "for i in range(2, 12):\n",
    "    clasificador5 = KMeans(n_clusters = i, init = 'k-means++', n_init=20, random_state = 42)\n",
    "    clasificador5.fit(trainC)\n",
    "    distor.append(sum(np.min(cdist(trainC, clasificador5.cluster_centers_, \n",
    "                      'euclidean'),axis=1)) / trainC.shape[0])"
   ]
  },
  {
   "cell_type": "code",
   "execution_count": 61,
   "id": "e2325994",
   "metadata": {},
   "outputs": [
    {
     "data": {
      "text/plain": [
       "<seaborn.axisgrid.FacetGrid at 0x1e3493df988>"
      ]
     },
     "execution_count": 61,
     "metadata": {},
     "output_type": "execute_result"
    },
    {
     "data": {
      "image/png": "[encoded data removed]",
      "text/plain": [
       "<Figure size 360x360 with 1 Axes>"
      ]
     },
     "metadata": {
      "needs_background": "light"
     },
     "output_type": "display_data"
    }
   ],
   "source": [
    "sns.relplot(x=range(2,12),y=distor,kind='line')"
   ]
  },
  {
   "cell_type": "code",
   "execution_count": null,
   "id": "c7a08f56",
   "metadata": {},
   "outputs": [],
   "source": [
    "\"\"\"from sklearn.mixture import GaussianMixture\n",
    "n_components = range(1, 30)\n",
    "covariance_type = ['spherical', 'tied', 'diag', 'full']\n",
    "score=[]\n",
    "for cov in covariance_type:\n",
    "    for n_comp in n_components:\n",
    "        gmm=GaussianMixture(n_components=n_comp,covariance_type=cov)\n",
    "        gmm.fit(cluster_df)\n",
    "        score.append((cov,n_comp,gmm.bic(cluster_df)))\n",
    "score\"\"\""
   ]
  },
  {
   "cell_type": "code",
   "execution_count": null,
   "id": "818dee4d",
   "metadata": {},
   "outputs": [],
   "source": [
    "#Según todas lasgráficas el k mejor es k=7 podría ser 8 también "
   ]
  },
  {
   "cell_type": "code",
   "execution_count": null,
   "id": "595cf590",
   "metadata": {},
   "outputs": [],
   "source": []
  },
  {
   "cell_type": "code",
   "execution_count": 52,
   "id": "6a0f3037",
   "metadata": {},
   "outputs": [],
   "source": [
    "clasificadorF1 = KMeans(n_clusters = 7, init = 'k-means++', n_init=20, random_state = 42)\n",
    "clasificadorF1.fit(trainC)\n",
    "etiquetas1=clasificadorF1.labels_\n"
   ]
  },
  {
   "cell_type": "code",
   "execution_count": 61,
   "id": "e7603bfd",
   "metadata": {},
   "outputs": [
    {
     "name": "stdout",
     "output_type": "stream",
     "text": [
      "[[ 5.92367469e-01 -2.88143316e-01 -3.83669731e-01 -2.26977298e-01\n",
      "   7.37695132e-01  4.55515827e-01 -2.06327009e-01  3.99680289e-15]\n",
      " [ 3.18550487e-02 -1.12658718e-01 -2.15367681e-01 -3.17341996e-01\n",
      "  -1.35557354e+00  3.40807722e-01 -1.25305299e-01  3.00000000e+00]\n",
      " [-2.85218913e-01 -1.62647566e-01 -1.82743104e-01 -2.13240325e-02\n",
      "  -4.72806195e-02 -1.93846038e+00 -3.43576232e-02  4.00000000e+00]\n",
      " [ 7.70389526e-01  3.60847833e+00  1.53605585e+00  1.83708263e-01\n",
      "  -1.09580282e-01  4.61134213e-01 -1.23352247e+00  2.00000000e+00]\n",
      " [-1.22418062e-01  1.59151577e-01  2.63943673e+00  7.74936074e-03\n",
      "  -8.57176236e-01  1.41188268e-01 -2.68157059e-01  6.00000000e+00]\n",
      " [-1.56610693e+00  3.72868130e-02 -5.99057800e-02  3.80149182e+00\n",
      "  -3.89449537e-01 -1.09860227e+00  7.04634242e-01  5.00000000e+00]\n",
      " [-1.15641144e+00 -2.53841222e-01 -3.61844466e-01 -1.97626077e-01\n",
      "   6.24545474e-01  4.56270170e-01  1.24772755e+00  1.00000000e+00]]\n"
     ]
    }
   ],
   "source": [
    "pred =  clasificadorF1.predict(trainC)\n",
    "frame = pd.DataFrame(trainC)\n",
    "frame['cluster'] = pred\n",
    "frame['cluster'].value_counts()\n",
    "centroides=clasificadorF1.cluster_centers_\n",
    "print(centroides)\n"
   ]
  },
  {
   "cell_type": "code",
   "execution_count": 55,
   "id": "002b34c1",
   "metadata": {},
   "outputs": [
    {
     "name": "stdout",
     "output_type": "stream",
     "text": [
      "1.3538086693488491\n",
      "229.43722223386249\n",
      "0.3568695994841527\n"
     ]
    },
    {
     "data": {
      "text/plain": [
       "10"
      ]
     },
     "execution_count": 55,
     "metadata": {},
     "output_type": "execute_result"
    }
   ],
   "source": [
    "print(davies_bouldin_score(trainC, etiquetas1))\n",
    "print(calinski_harabasz_score(trainC, etiquetas1))\n",
    "print(silhouette_score(trainC, etiquetas1))\n",
    "clasificadorF1.n_iter_"
   ]
  },
  {
   "cell_type": "code",
   "execution_count": 31,
   "id": "3e12e1da",
   "metadata": {},
   "outputs": [],
   "source": [
    "clasificadorF2 = KMeans(n_clusters = 8, init = 'k-means++', n_init=20, random_state = 42)\n",
    "clasificadorF2.fit(trainC)\n",
    "etiquetas2=clasificadorF2.labels_"
   ]
  },
  {
   "cell_type": "code",
   "execution_count": 32,
   "id": "0f97219a",
   "metadata": {},
   "outputs": [
    {
     "name": "stdout",
     "output_type": "stream",
     "text": [
      "1.1930781158503543\n",
      "213.2331120328395\n",
      "0.31043433928714653\n"
     ]
    }
   ],
   "source": [
    "print(davies_bouldin_score(trainC, etiquetas2))\n",
    "print(calinski_harabasz_score(trainC, etiquetas2))\n",
    "print(silhouette_score(trainC, etiquetas2))"
   ]
  },
  {
   "cell_type": "code",
   "execution_count": 33,
   "id": "542fc529",
   "metadata": {},
   "outputs": [],
   "source": [
    "#Este sería con un k malo\n",
    "clasificadorF3 = KMeans(n_clusters = 12, init = 'k-means++', n_init=20, random_state = 42)\n",
    "clasificadorF3.fit(trainC)\n",
    "etiquetas3=clasificadorF3.labels_"
   ]
  },
  {
   "cell_type": "code",
   "execution_count": 34,
   "id": "30dbbeab",
   "metadata": {},
   "outputs": [
    {
     "name": "stdout",
     "output_type": "stream",
     "text": [
      "1.191818478175921\n",
      "191.61683192866005\n",
      "0.3140288753770199\n"
     ]
    }
   ],
   "source": [
    "#Da resultados peores\n",
    "print(davies_bouldin_score(trainC, etiquetas3))\n",
    "print(calinski_harabasz_score(trainC, etiquetas3))\n",
    "print(silhouette_score(trainC, etiquetas3))"
   ]
  },
  {
   "cell_type": "code",
   "execution_count": 56,
   "id": "bf3c6d87",
   "metadata": {},
   "outputs": [],
   "source": [
    "#Llevo a dos dimensiones para visualizar algo uso PCA\n",
    "from sklearn.decomposition import PCA\n",
    "modelo_pca = PCA(n_components = 2)\n",
    "modelo_pca.fit(trainC)\n",
    "pca = modelo_pca.transform(trainC) \n",
    "centroides_pca=modelo_pca.transform(centroides) "
   ]
  },
  {
   "cell_type": "code",
   "execution_count": null,
   "id": "8d481935",
   "metadata": {},
   "outputs": [],
   "source": [
    "*"
   ]
  },
  {
   "cell_type": "code",
   "execution_count": null,
   "id": "4cb86cb2",
   "metadata": {},
   "outputs": [],
   "source": []
  },
  {
   "cell_type": "code",
   "execution_count": 59,
   "id": "2e8f52df",
   "metadata": {},
   "outputs": [
    {
     "data": {
      "image/png": "[encoded data removed]",
      "text/plain": [
       "<Figure size 432x288 with 1 Axes>"
      ]
     },
     "metadata": {
      "needs_background": "light"
     },
     "output_type": "display_data"
    }
   ],
   "source": [
    "# Defino los colores de cada clúster\n",
    "colores = ['blue', 'red', 'green', 'orange', 'gray', 'brown','cyan',]\n",
    " \n",
    "colores_cluster = [colores[etiquetas1[i]] for i in range(len(pca))]\n",
    "\n",
    "plt.scatter(pca[:, 0], pca[:, 1], c = colores_cluster, \n",
    "            marker = 'o',alpha = 0.4)\n",
    "\n",
    "plt.scatter(centroides_pca[:, 0], centroides_pca[:, 1],\n",
    "            marker = 'x', s = 100, linewidths = 3, c = colores)\n",
    "\n",
    "xvector = modelo_pca.components_[0] * max(pca[:,0])\n",
    "yvector = modelo_pca.components_[1] * max(pca[:,1])\n",
    "columnas = trainC.columns\n",
    "\n",
    "for i in range(len(columnas)):\n",
    "    \n",
    "    plt.arrow(0, 0, xvector[i], yvector[i], color = 'black', \n",
    "              width = 0.0005, head_width = 0.02, alpha = 0.75)\n",
    "    \n",
    "    plt.text(xvector[i], yvector[i], list(columnas)[i], color='black', \n",
    "             alpha=0.75)\n",
    "plt.show()"
   ]
  },
  {
   "cell_type": "code",
   "execution_count": null,
   "id": "7b4d5dc9",
   "metadata": {},
   "outputs": [],
   "source": []
  }
 ],
 "metadata": {
  "kernelspec": {
   "display_name": "Python 3",
   "language": "python",
   "name": "python3"
  },
  "language_info": {
   "codemirror_mode": {
    "name": "ipython",
    "version": 3
   },
   "file_extension": ".py",
   "mimetype": "text/x-python",
   "name": "python",
   "nbconvert_exporter": "python",
   "pygments_lexer": "ipython3",
   "version": "3.7.10"
  }
 },
 "nbformat": 4,
 "nbformat_minor": 5
}
