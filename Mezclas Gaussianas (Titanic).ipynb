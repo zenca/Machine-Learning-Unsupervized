{
 "cells": [
  {
   "cell_type": "markdown",
   "id": "55e6fcf5",
   "metadata": {},
   "source": [
    "# Mezclas Gaussianas\n"
   ]
  },
  {
   "cell_type": "code",
   "execution_count": null,
   "id": "3f9dc302",
   "metadata": {},
   "outputs": [],
   "source": [
    "\n",
    "modelo_gmm = GaussianMixture(n_components=4, covariance_type='full', random_state=123)\n",
    "modelo_gmm.fit(X=X)"
   ]
  }
 ],
 "metadata": {
  "kernelspec": {
   "display_name": "Python 3",
   "language": "python",
   "name": "python3"
  },
  "language_info": {
   "codemirror_mode": {
    "name": "ipython",
    "version": 3
   },
   "file_extension": ".py",
   "mimetype": "text/x-python",
   "name": "python",
   "nbconvert_exporter": "python",
   "pygments_lexer": "ipython3",
   "version": "3.7.10"
  }
 },
 "nbformat": 4,
 "nbformat_minor": 5
}
