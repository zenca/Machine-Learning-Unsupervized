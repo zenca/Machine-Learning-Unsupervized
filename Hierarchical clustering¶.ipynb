{
 "cells": [
  {
   "cell_type": "markdown",
   "id": "7820d452",
   "metadata": {},
   "source": [
    "# Hierarchical Clustering"
   ]
  },
  {
   "cell_type": "code",
   "execution_count": 1,
   "id": "c605fe04",
   "metadata": {},
   "outputs": [],
   "source": [
    "import numpy as np\n",
    "import matplotlib.pyplot as plt\n",
    "import pandas as pd\n",
    "import seaborn as sns"
   ]
  },
  {
   "cell_type": "code",
   "execution_count": 2,
   "id": "918a598f",
   "metadata": {},
   "outputs": [
    {
     "data": {
      "text/html": [
       "<div>\n",
       "<style scoped>\n",
       "    .dataframe tbody tr th:only-of-type {\n",
       "        vertical-align: middle;\n",
       "    }\n",
       "\n",
       "    .dataframe tbody tr th {\n",
       "        vertical-align: top;\n",
       "    }\n",
       "\n",
       "    .dataframe thead th {\n",
       "        text-align: right;\n",
       "    }\n",
       "</style>\n",
       "<table border=\"1\" class=\"dataframe\">\n",
       "  <thead>\n",
       "    <tr style=\"text-align: right;\">\n",
       "      <th></th>\n",
       "      <th>Pclass</th>\n",
       "      <th>SibSp</th>\n",
       "      <th>Parch</th>\n",
       "      <th>Fare</th>\n",
       "      <th>Sex Encode</th>\n",
       "      <th>Embarked-2</th>\n",
       "      <th>Age-sep</th>\n",
       "    </tr>\n",
       "  </thead>\n",
       "  <tbody>\n",
       "    <tr>\n",
       "      <th>0</th>\n",
       "      <td>3</td>\n",
       "      <td>1</td>\n",
       "      <td>0</td>\n",
       "      <td>130.982998</td>\n",
       "      <td>1</td>\n",
       "      <td>2</td>\n",
       "      <td>1</td>\n",
       "    </tr>\n",
       "    <tr>\n",
       "      <th>1</th>\n",
       "      <td>1</td>\n",
       "      <td>1</td>\n",
       "      <td>0</td>\n",
       "      <td>712.833000</td>\n",
       "      <td>0</td>\n",
       "      <td>0</td>\n",
       "      <td>3</td>\n",
       "    </tr>\n",
       "    <tr>\n",
       "      <th>2</th>\n",
       "      <td>3</td>\n",
       "      <td>0</td>\n",
       "      <td>0</td>\n",
       "      <td>7.925000</td>\n",
       "      <td>0</td>\n",
       "      <td>2</td>\n",
       "      <td>2</td>\n",
       "    </tr>\n",
       "    <tr>\n",
       "      <th>3</th>\n",
       "      <td>1</td>\n",
       "      <td>1</td>\n",
       "      <td>0</td>\n",
       "      <td>130.982998</td>\n",
       "      <td>0</td>\n",
       "      <td>2</td>\n",
       "      <td>3</td>\n",
       "    </tr>\n",
       "    <tr>\n",
       "      <th>4</th>\n",
       "      <td>3</td>\n",
       "      <td>0</td>\n",
       "      <td>0</td>\n",
       "      <td>130.982998</td>\n",
       "      <td>1</td>\n",
       "      <td>2</td>\n",
       "      <td>3</td>\n",
       "    </tr>\n",
       "    <tr>\n",
       "      <th>...</th>\n",
       "      <td>...</td>\n",
       "      <td>...</td>\n",
       "      <td>...</td>\n",
       "      <td>...</td>\n",
       "      <td>...</td>\n",
       "      <td>...</td>\n",
       "      <td>...</td>\n",
       "    </tr>\n",
       "    <tr>\n",
       "      <th>886</th>\n",
       "      <td>2</td>\n",
       "      <td>0</td>\n",
       "      <td>0</td>\n",
       "      <td>13.000000</td>\n",
       "      <td>1</td>\n",
       "      <td>2</td>\n",
       "      <td>2</td>\n",
       "    </tr>\n",
       "    <tr>\n",
       "      <th>887</th>\n",
       "      <td>1</td>\n",
       "      <td>0</td>\n",
       "      <td>0</td>\n",
       "      <td>30.000000</td>\n",
       "      <td>0</td>\n",
       "      <td>2</td>\n",
       "      <td>1</td>\n",
       "    </tr>\n",
       "    <tr>\n",
       "      <th>888</th>\n",
       "      <td>3</td>\n",
       "      <td>1</td>\n",
       "      <td>2</td>\n",
       "      <td>130.982998</td>\n",
       "      <td>0</td>\n",
       "      <td>2</td>\n",
       "      <td>2</td>\n",
       "    </tr>\n",
       "    <tr>\n",
       "      <th>889</th>\n",
       "      <td>1</td>\n",
       "      <td>0</td>\n",
       "      <td>0</td>\n",
       "      <td>30.000000</td>\n",
       "      <td>1</td>\n",
       "      <td>0</td>\n",
       "      <td>2</td>\n",
       "    </tr>\n",
       "    <tr>\n",
       "      <th>890</th>\n",
       "      <td>3</td>\n",
       "      <td>0</td>\n",
       "      <td>0</td>\n",
       "      <td>130.982998</td>\n",
       "      <td>1</td>\n",
       "      <td>1</td>\n",
       "      <td>2</td>\n",
       "    </tr>\n",
       "  </tbody>\n",
       "</table>\n",
       "<p>891 rows × 7 columns</p>\n",
       "</div>"
      ],
      "text/plain": [
       "     Pclass  SibSp  Parch        Fare  Sex Encode  Embarked-2  Age-sep\n",
       "0         3      1      0  130.982998           1           2        1\n",
       "1         1      1      0  712.833000           0           0        3\n",
       "2         3      0      0    7.925000           0           2        2\n",
       "3         1      1      0  130.982998           0           2        3\n",
       "4         3      0      0  130.982998           1           2        3\n",
       "..      ...    ...    ...         ...         ...         ...      ...\n",
       "886       2      0      0   13.000000           1           2        2\n",
       "887       1      0      0   30.000000           0           2        1\n",
       "888       3      1      2  130.982998           0           2        2\n",
       "889       1      0      0   30.000000           1           0        2\n",
       "890       3      0      0  130.982998           1           1        2\n",
       "\n",
       "[891 rows x 7 columns]"
      ]
     },
     "execution_count": 2,
     "metadata": {},
     "output_type": "execute_result"
    }
   ],
   "source": [
    "train1=pd.read_csv(r'C:\\Users\\Nelson\\Documents\\Sync\\Proj_Titanic\\Datas\\train2.csv',sep=',')\n",
    "trainP=train1.drop(['Unnamed: 0'],axis=1)\n",
    "trainP\n",
    "trainA=trainP.copy()\n",
    "trainA"
   ]
  },
  {
   "cell_type": "code",
   "execution_count": 3,
   "id": "77da82c6",
   "metadata": {},
   "outputs": [
    {
     "data": {
      "text/html": [
       "<div>\n",
       "<style scoped>\n",
       "    .dataframe tbody tr th:only-of-type {\n",
       "        vertical-align: middle;\n",
       "    }\n",
       "\n",
       "    .dataframe tbody tr th {\n",
       "        vertical-align: top;\n",
       "    }\n",
       "\n",
       "    .dataframe thead th {\n",
       "        text-align: right;\n",
       "    }\n",
       "</style>\n",
       "<table border=\"1\" class=\"dataframe\">\n",
       "  <thead>\n",
       "    <tr style=\"text-align: right;\">\n",
       "      <th></th>\n",
       "      <th>Pclass</th>\n",
       "      <th>SibSp</th>\n",
       "      <th>Parch</th>\n",
       "      <th>Fare</th>\n",
       "      <th>Sex Encode</th>\n",
       "      <th>Embarked-2</th>\n",
       "      <th>Age-sep</th>\n",
       "    </tr>\n",
       "  </thead>\n",
       "  <tbody>\n",
       "    <tr>\n",
       "      <th>0</th>\n",
       "      <td>0.827377</td>\n",
       "      <td>0.432793</td>\n",
       "      <td>-0.473674</td>\n",
       "      <td>0.000000</td>\n",
       "      <td>0.737695</td>\n",
       "      <td>0.581114</td>\n",
       "      <td>-0.943913</td>\n",
       "    </tr>\n",
       "    <tr>\n",
       "      <th>1</th>\n",
       "      <td>-1.566107</td>\n",
       "      <td>0.432793</td>\n",
       "      <td>-0.473674</td>\n",
       "      <td>3.916997</td>\n",
       "      <td>-1.355574</td>\n",
       "      <td>-1.938460</td>\n",
       "      <td>0.793745</td>\n",
       "    </tr>\n",
       "    <tr>\n",
       "      <th>2</th>\n",
       "      <td>0.827377</td>\n",
       "      <td>-0.474545</td>\n",
       "      <td>-0.473674</td>\n",
       "      <td>-0.828423</td>\n",
       "      <td>-1.355574</td>\n",
       "      <td>0.581114</td>\n",
       "      <td>-0.075084</td>\n",
       "    </tr>\n",
       "    <tr>\n",
       "      <th>3</th>\n",
       "      <td>-1.566107</td>\n",
       "      <td>0.432793</td>\n",
       "      <td>-0.473674</td>\n",
       "      <td>0.000000</td>\n",
       "      <td>-1.355574</td>\n",
       "      <td>0.581114</td>\n",
       "      <td>0.793745</td>\n",
       "    </tr>\n",
       "    <tr>\n",
       "      <th>4</th>\n",
       "      <td>0.827377</td>\n",
       "      <td>-0.474545</td>\n",
       "      <td>-0.473674</td>\n",
       "      <td>0.000000</td>\n",
       "      <td>0.737695</td>\n",
       "      <td>0.581114</td>\n",
       "      <td>0.793745</td>\n",
       "    </tr>\n",
       "    <tr>\n",
       "      <th>...</th>\n",
       "      <td>...</td>\n",
       "      <td>...</td>\n",
       "      <td>...</td>\n",
       "      <td>...</td>\n",
       "      <td>...</td>\n",
       "      <td>...</td>\n",
       "      <td>...</td>\n",
       "    </tr>\n",
       "    <tr>\n",
       "      <th>886</th>\n",
       "      <td>-0.369365</td>\n",
       "      <td>-0.474545</td>\n",
       "      <td>-0.473674</td>\n",
       "      <td>-0.794258</td>\n",
       "      <td>0.737695</td>\n",
       "      <td>0.581114</td>\n",
       "      <td>-0.075084</td>\n",
       "    </tr>\n",
       "    <tr>\n",
       "      <th>887</th>\n",
       "      <td>-1.566107</td>\n",
       "      <td>-0.474545</td>\n",
       "      <td>-0.473674</td>\n",
       "      <td>-0.679815</td>\n",
       "      <td>-1.355574</td>\n",
       "      <td>0.581114</td>\n",
       "      <td>-0.943913</td>\n",
       "    </tr>\n",
       "    <tr>\n",
       "      <th>888</th>\n",
       "      <td>0.827377</td>\n",
       "      <td>0.432793</td>\n",
       "      <td>2.008933</td>\n",
       "      <td>0.000000</td>\n",
       "      <td>-1.355574</td>\n",
       "      <td>0.581114</td>\n",
       "      <td>-0.075084</td>\n",
       "    </tr>\n",
       "    <tr>\n",
       "      <th>889</th>\n",
       "      <td>-1.566107</td>\n",
       "      <td>-0.474545</td>\n",
       "      <td>-0.473674</td>\n",
       "      <td>-0.679815</td>\n",
       "      <td>0.737695</td>\n",
       "      <td>-1.938460</td>\n",
       "      <td>-0.075084</td>\n",
       "    </tr>\n",
       "    <tr>\n",
       "      <th>890</th>\n",
       "      <td>0.827377</td>\n",
       "      <td>-0.474545</td>\n",
       "      <td>-0.473674</td>\n",
       "      <td>0.000000</td>\n",
       "      <td>0.737695</td>\n",
       "      <td>-0.678673</td>\n",
       "      <td>-0.075084</td>\n",
       "    </tr>\n",
       "  </tbody>\n",
       "</table>\n",
       "<p>891 rows × 7 columns</p>\n",
       "</div>"
      ],
      "text/plain": [
       "       Pclass     SibSp     Parch      Fare  Sex Encode  Embarked-2   Age-sep\n",
       "0    0.827377  0.432793 -0.473674  0.000000    0.737695    0.581114 -0.943913\n",
       "1   -1.566107  0.432793 -0.473674  3.916997   -1.355574   -1.938460  0.793745\n",
       "2    0.827377 -0.474545 -0.473674 -0.828423   -1.355574    0.581114 -0.075084\n",
       "3   -1.566107  0.432793 -0.473674  0.000000   -1.355574    0.581114  0.793745\n",
       "4    0.827377 -0.474545 -0.473674  0.000000    0.737695    0.581114  0.793745\n",
       "..        ...       ...       ...       ...         ...         ...       ...\n",
       "886 -0.369365 -0.474545 -0.473674 -0.794258    0.737695    0.581114 -0.075084\n",
       "887 -1.566107 -0.474545 -0.473674 -0.679815   -1.355574    0.581114 -0.943913\n",
       "888  0.827377  0.432793  2.008933  0.000000   -1.355574    0.581114 -0.075084\n",
       "889 -1.566107 -0.474545 -0.473674 -0.679815    0.737695   -1.938460 -0.075084\n",
       "890  0.827377 -0.474545 -0.473674  0.000000    0.737695   -0.678673 -0.075084\n",
       "\n",
       "[891 rows x 7 columns]"
      ]
     },
     "execution_count": 3,
     "metadata": {},
     "output_type": "execute_result"
    }
   ],
   "source": [
    "#Normalizo con z_score\n",
    "from sklearn.preprocessing import StandardScaler\n",
    "normalizador2=StandardScaler()\n",
    "trainB=normalizador2.fit_transform(trainA)\n",
    "trainB=pd.DataFrame(trainB, columns=['Pclass','SibSp','Parch','Fare','Sex Encode','Embarked-2','Age-sep'])\n",
    "#trainB.describe()\n",
    "trainB"
   ]
  },
  {
   "cell_type": "code",
   "execution_count": 4,
   "id": "0869eafd",
   "metadata": {},
   "outputs": [
    {
     "data": {
      "text/html": [
       "<div>\n",
       "<style scoped>\n",
       "    .dataframe tbody tr th:only-of-type {\n",
       "        vertical-align: middle;\n",
       "    }\n",
       "\n",
       "    .dataframe tbody tr th {\n",
       "        vertical-align: top;\n",
       "    }\n",
       "\n",
       "    .dataframe thead th {\n",
       "        text-align: right;\n",
       "    }\n",
       "</style>\n",
       "<table border=\"1\" class=\"dataframe\">\n",
       "  <thead>\n",
       "    <tr style=\"text-align: right;\">\n",
       "      <th></th>\n",
       "      <th>Pclass</th>\n",
       "      <th>SibSp</th>\n",
       "      <th>Parch</th>\n",
       "      <th>Fare</th>\n",
       "      <th>Sex Encode</th>\n",
       "      <th>Embarked-2</th>\n",
       "      <th>Age-sep</th>\n",
       "    </tr>\n",
       "  </thead>\n",
       "  <tbody>\n",
       "    <tr>\n",
       "      <th>0</th>\n",
       "      <td>-0.369365</td>\n",
       "      <td>-0.474545</td>\n",
       "      <td>-0.473674</td>\n",
       "      <td>-0.706742</td>\n",
       "      <td>0.737695</td>\n",
       "      <td>0.581114</td>\n",
       "      <td>0.793745</td>\n",
       "    </tr>\n",
       "    <tr>\n",
       "      <th>1</th>\n",
       "      <td>-0.369365</td>\n",
       "      <td>1.340132</td>\n",
       "      <td>-0.473674</td>\n",
       "      <td>0.000000</td>\n",
       "      <td>0.737695</td>\n",
       "      <td>0.581114</td>\n",
       "      <td>-0.943913</td>\n",
       "    </tr>\n",
       "    <tr>\n",
       "      <th>2</th>\n",
       "      <td>-0.369365</td>\n",
       "      <td>0.432793</td>\n",
       "      <td>0.767630</td>\n",
       "      <td>-0.706742</td>\n",
       "      <td>-1.355574</td>\n",
       "      <td>0.581114</td>\n",
       "      <td>-1.812742</td>\n",
       "    </tr>\n",
       "    <tr>\n",
       "      <th>3</th>\n",
       "      <td>0.827377</td>\n",
       "      <td>-0.474545</td>\n",
       "      <td>-0.473674</td>\n",
       "      <td>-0.353031</td>\n",
       "      <td>0.737695</td>\n",
       "      <td>0.581114</td>\n",
       "      <td>-0.943913</td>\n",
       "    </tr>\n",
       "  </tbody>\n",
       "</table>\n",
       "</div>"
      ],
      "text/plain": [
       "     Pclass     SibSp     Parch      Fare  Sex Encode  Embarked-2   Age-sep\n",
       "0 -0.369365 -0.474545 -0.473674 -0.706742    0.737695    0.581114  0.793745\n",
       "1 -0.369365  1.340132 -0.473674  0.000000    0.737695    0.581114 -0.943913\n",
       "2 -0.369365  0.432793  0.767630 -0.706742   -1.355574    0.581114 -1.812742\n",
       "3  0.827377 -0.474545 -0.473674 -0.353031    0.737695    0.581114 -0.943913"
      ]
     },
     "execution_count": 4,
     "metadata": {},
     "output_type": "execute_result"
    }
   ],
   "source": [
    "#Separo 4 filas\n",
    "test1=pd.DataFrame(trainB.loc[[20,120,530,640]],columns=['Pclass','SibSp','Parch','Fare','Sex Encode','Embarked-2','Age-sep'])\n",
    "test1=test1.reset_index(drop=True)\n",
    "test1"
   ]
  },
  {
   "cell_type": "code",
   "execution_count": 7,
   "id": "236d9c5c",
   "metadata": {},
   "outputs": [
    {
     "data": {
      "text/html": [
       "<div>\n",
       "<style scoped>\n",
       "    .dataframe tbody tr th:only-of-type {\n",
       "        vertical-align: middle;\n",
       "    }\n",
       "\n",
       "    .dataframe tbody tr th {\n",
       "        vertical-align: top;\n",
       "    }\n",
       "\n",
       "    .dataframe thead th {\n",
       "        text-align: right;\n",
       "    }\n",
       "</style>\n",
       "<table border=\"1\" class=\"dataframe\">\n",
       "  <thead>\n",
       "    <tr style=\"text-align: right;\">\n",
       "      <th></th>\n",
       "      <th>Pclass</th>\n",
       "      <th>SibSp</th>\n",
       "      <th>Parch</th>\n",
       "      <th>Fare</th>\n",
       "      <th>Sex Encode</th>\n",
       "      <th>Embarked-2</th>\n",
       "      <th>Age-sep</th>\n",
       "    </tr>\n",
       "  </thead>\n",
       "  <tbody>\n",
       "    <tr>\n",
       "      <th>0</th>\n",
       "      <td>0.827377</td>\n",
       "      <td>0.432793</td>\n",
       "      <td>-0.473674</td>\n",
       "      <td>0.000000</td>\n",
       "      <td>0.737695</td>\n",
       "      <td>0.581114</td>\n",
       "      <td>-0.943913</td>\n",
       "    </tr>\n",
       "    <tr>\n",
       "      <th>1</th>\n",
       "      <td>-1.566107</td>\n",
       "      <td>0.432793</td>\n",
       "      <td>-0.473674</td>\n",
       "      <td>3.916997</td>\n",
       "      <td>-1.355574</td>\n",
       "      <td>-1.938460</td>\n",
       "      <td>0.793745</td>\n",
       "    </tr>\n",
       "    <tr>\n",
       "      <th>2</th>\n",
       "      <td>0.827377</td>\n",
       "      <td>-0.474545</td>\n",
       "      <td>-0.473674</td>\n",
       "      <td>-0.828423</td>\n",
       "      <td>-1.355574</td>\n",
       "      <td>0.581114</td>\n",
       "      <td>-0.075084</td>\n",
       "    </tr>\n",
       "    <tr>\n",
       "      <th>3</th>\n",
       "      <td>-1.566107</td>\n",
       "      <td>0.432793</td>\n",
       "      <td>-0.473674</td>\n",
       "      <td>0.000000</td>\n",
       "      <td>-1.355574</td>\n",
       "      <td>0.581114</td>\n",
       "      <td>0.793745</td>\n",
       "    </tr>\n",
       "    <tr>\n",
       "      <th>4</th>\n",
       "      <td>0.827377</td>\n",
       "      <td>-0.474545</td>\n",
       "      <td>-0.473674</td>\n",
       "      <td>0.000000</td>\n",
       "      <td>0.737695</td>\n",
       "      <td>0.581114</td>\n",
       "      <td>0.793745</td>\n",
       "    </tr>\n",
       "    <tr>\n",
       "      <th>...</th>\n",
       "      <td>...</td>\n",
       "      <td>...</td>\n",
       "      <td>...</td>\n",
       "      <td>...</td>\n",
       "      <td>...</td>\n",
       "      <td>...</td>\n",
       "      <td>...</td>\n",
       "    </tr>\n",
       "    <tr>\n",
       "      <th>886</th>\n",
       "      <td>-0.369365</td>\n",
       "      <td>-0.474545</td>\n",
       "      <td>-0.473674</td>\n",
       "      <td>-0.794258</td>\n",
       "      <td>0.737695</td>\n",
       "      <td>0.581114</td>\n",
       "      <td>-0.075084</td>\n",
       "    </tr>\n",
       "    <tr>\n",
       "      <th>887</th>\n",
       "      <td>-1.566107</td>\n",
       "      <td>-0.474545</td>\n",
       "      <td>-0.473674</td>\n",
       "      <td>-0.679815</td>\n",
       "      <td>-1.355574</td>\n",
       "      <td>0.581114</td>\n",
       "      <td>-0.943913</td>\n",
       "    </tr>\n",
       "    <tr>\n",
       "      <th>888</th>\n",
       "      <td>0.827377</td>\n",
       "      <td>0.432793</td>\n",
       "      <td>2.008933</td>\n",
       "      <td>0.000000</td>\n",
       "      <td>-1.355574</td>\n",
       "      <td>0.581114</td>\n",
       "      <td>-0.075084</td>\n",
       "    </tr>\n",
       "    <tr>\n",
       "      <th>889</th>\n",
       "      <td>-1.566107</td>\n",
       "      <td>-0.474545</td>\n",
       "      <td>-0.473674</td>\n",
       "      <td>-0.679815</td>\n",
       "      <td>0.737695</td>\n",
       "      <td>-1.938460</td>\n",
       "      <td>-0.075084</td>\n",
       "    </tr>\n",
       "    <tr>\n",
       "      <th>890</th>\n",
       "      <td>0.827377</td>\n",
       "      <td>-0.474545</td>\n",
       "      <td>-0.473674</td>\n",
       "      <td>0.000000</td>\n",
       "      <td>0.737695</td>\n",
       "      <td>-0.678673</td>\n",
       "      <td>-0.075084</td>\n",
       "    </tr>\n",
       "  </tbody>\n",
       "</table>\n",
       "<p>887 rows × 7 columns</p>\n",
       "</div>"
      ],
      "text/plain": [
       "       Pclass     SibSp     Parch      Fare  Sex Encode  Embarked-2   Age-sep\n",
       "0    0.827377  0.432793 -0.473674  0.000000    0.737695    0.581114 -0.943913\n",
       "1   -1.566107  0.432793 -0.473674  3.916997   -1.355574   -1.938460  0.793745\n",
       "2    0.827377 -0.474545 -0.473674 -0.828423   -1.355574    0.581114 -0.075084\n",
       "3   -1.566107  0.432793 -0.473674  0.000000   -1.355574    0.581114  0.793745\n",
       "4    0.827377 -0.474545 -0.473674  0.000000    0.737695    0.581114  0.793745\n",
       "..        ...       ...       ...       ...         ...         ...       ...\n",
       "886 -0.369365 -0.474545 -0.473674 -0.794258    0.737695    0.581114 -0.075084\n",
       "887 -1.566107 -0.474545 -0.473674 -0.679815   -1.355574    0.581114 -0.943913\n",
       "888  0.827377  0.432793  2.008933  0.000000   -1.355574    0.581114 -0.075084\n",
       "889 -1.566107 -0.474545 -0.473674 -0.679815    0.737695   -1.938460 -0.075084\n",
       "890  0.827377 -0.474545 -0.473674  0.000000    0.737695   -0.678673 -0.075084\n",
       "\n",
       "[887 rows x 7 columns]"
      ]
     },
     "execution_count": 7,
     "metadata": {},
     "output_type": "execute_result"
    }
   ],
   "source": [
    "#Le saco las 4 filas al conjunto inicial me queda trainC para entrenar\n",
    "trainC=trainB.drop([20,120,530,640],axis=0)\n",
    "trainC"
   ]
  },
  {
   "cell_type": "code",
   "execution_count": 8,
   "id": "e55a0055",
   "metadata": {},
   "outputs": [],
   "source": [
    "#Importo de Scipiy\n",
    "import scipy.cluster.hierarchy as sch\n",
    "from scipy.cluster.hierarchy import dendrogram, linkage, fcluster"
   ]
  },
  {
   "cell_type": "code",
   "execution_count": 16,
   "id": "717334c7",
   "metadata": {},
   "outputs": [
    {
     "data": {
      "image/png": "[encoded data removed]",
      "text/plain": [
       "<Figure size 432x288 with 1 Axes>"
      ]
     },
     "metadata": {
      "needs_background": "light"
     },
     "output_type": "display_data"
    }
   ],
   "source": [
    "mi_clusteringW=linkage(trainC, 'ward')\n",
    "dendrogram = sch.dendrogram(mi_clusteringW)"
   ]
  },
  {
   "cell_type": "code",
   "execution_count": null,
   "id": "18c05f07",
   "metadata": {},
   "outputs": [],
   "source": [
    "#Creo los clusters con la altura t que aparece arriba de 25\n",
    "clusteres=fcluster(mi_clustering,t=28,criterion='distance')\n",
    "#clusteres#5 clusteres"
   ]
  },
  {
   "cell_type": "code",
   "execution_count": 17,
   "id": "4bc7e335",
   "metadata": {},
   "outputs": [
    {
     "data": {
      "text/plain": [
       "<matplotlib.lines.Line2D at 0x1d9d3158808>"
      ]
     },
     "execution_count": 17,
     "metadata": {},
     "output_type": "execute_result"
    },
    {
     "data": {
      "image/png": "[encoded data removed]",
      "text/plain": [
       "<Figure size 576x288 with 1 Axes>"
      ]
     },
     "metadata": {
      "needs_background": "light"
     },
     "output_type": "display_data"
    }
   ],
   "source": [
    "fig, ax = plt.subplots(1, 1, figsize=(8, 4))\n",
    "altura_corte = 25\n",
    "dendrogram = sch.dendrogram(mi_clusteringW)\n",
    "ax.axhline(y=altura_corte, c = 'black', linestyle='--')"
   ]
  },
  {
   "cell_type": "code",
   "execution_count": 18,
   "id": "968a1ab8",
   "metadata": {},
   "outputs": [
    {
     "data": {
      "text/plain": [
       "<matplotlib.lines.Line2D at 0x1d9d0498348>"
      ]
     },
     "execution_count": 18,
     "metadata": {},
     "output_type": "execute_result"
    },
    {
     "data": {
      "image/png": "[encoded data removed]",
      "text/plain": [
       "<Figure size 576x288 with 1 Axes>"
      ]
     },
     "metadata": {
      "needs_background": "light"
     },
     "output_type": "display_data"
    }
   ],
   "source": [
    "fig, ax = plt.subplots(1, 1, figsize=(8, 4))\n",
    "altura_corte = 22.5\n",
    "dendrogram = sch.dendrogram(mi_clusteringW)\n",
    "ax.axhline(y=altura_corte, c = 'black', linestyle='--')"
   ]
  },
  {
   "cell_type": "code",
   "execution_count": 15,
   "id": "03b3978d",
   "metadata": {},
   "outputs": [
    {
     "data": {
      "text/plain": [
       "<matplotlib.lines.Line2D at 0x1d9d023d708>"
      ]
     },
     "execution_count": 15,
     "metadata": {},
     "output_type": "execute_result"
    },
    {
     "data": {
      "image/png": "[encoded data removed]",
      "text/plain": [
       "<Figure size 576x288 with 1 Axes>"
      ]
     },
     "metadata": {
      "needs_background": "light"
     },
     "output_type": "display_data"
    }
   ],
   "source": [
    "fig, ax = plt.subplots(1, 1, figsize=(8, 4))\n",
    "altura_corte = 24\n",
    "dendrogram = sch.dendrogram(mi_clusteringW)\n",
    "ax.axhline(y=altura_corte, c = 'black', linestyle='--')"
   ]
  },
  {
   "cell_type": "code",
   "execution_count": 20,
   "id": "b5f2e2f3",
   "metadata": {},
   "outputs": [
    {
     "data": {
      "image/png": "[encoded data removed]",
      "text/plain": [
       "<Figure size 432x288 with 1 Axes>"
      ]
     },
     "metadata": {
      "needs_background": "light"
     },
     "output_type": "display_data"
    }
   ],
   "source": [
    "mi_clusteringC=linkage(trainC, 'complete')\n",
    "dendrogram = sch.dendrogram(mi_clusteringC)"
   ]
  },
  {
   "cell_type": "code",
   "execution_count": 21,
   "id": "2659c769",
   "metadata": {},
   "outputs": [
    {
     "data": {
      "image/png": "[encoded data removed]",
      "text/plain": [
       "<Figure size 432x288 with 1 Axes>"
      ]
     },
     "metadata": {
      "needs_background": "light"
     },
     "output_type": "display_data"
    }
   ],
   "source": [
    "mi_clusteringS=linkage(trainC, 'single')\n",
    "dendrogram = sch.dendrogram(mi_clusteringS)"
   ]
  },
  {
   "cell_type": "code",
   "execution_count": 24,
   "id": "524714ce",
   "metadata": {},
   "outputs": [
    {
     "data": {
      "image/png": "[encoded data removed]",
      "text/plain": [
       "<Figure size 1080x432 with 1 Axes>"
      ]
     },
     "metadata": {
      "needs_background": "light"
     },
     "output_type": "display_data"
    }
   ],
   "source": [
    "fig, ax = plt.subplots(1, 1, figsize=(15,6))\n",
    "mi_clusteringS=linkage(trainC, 'single')\n",
    "dendrogram = sch.dendrogram(mi_clusteringS)"
   ]
  },
  {
   "cell_type": "code",
   "execution_count": 25,
   "id": "4e4fabef",
   "metadata": {},
   "outputs": [
    {
     "data": {
      "image/png": "[encoded data removed]",
      "text/plain": [
       "<Figure size 432x288 with 1 Axes>"
      ]
     },
     "metadata": {
      "needs_background": "light"
     },
     "output_type": "display_data"
    }
   ],
   "source": [
    "mi_clusteringA=linkage(trainC, 'average')\n",
    "dendrogram = sch.dendrogram(mi_clusteringA)"
   ]
  },
  {
   "cell_type": "code",
   "execution_count": 26,
   "id": "3b641693",
   "metadata": {},
   "outputs": [
    {
     "data": {
      "image/png": "[encoded data removed]",
      "text/plain": [
       "<Figure size 432x288 with 1 Axes>"
      ]
     },
     "metadata": {
      "needs_background": "light"
     },
     "output_type": "display_data"
    }
   ],
   "source": [
    "mi_clusteringCE=linkage(trainC, 'centroid')\n",
    "dendrogram = sch.dendrogram(mi_clusteringCE)"
   ]
  },
  {
   "cell_type": "code",
   "execution_count": 29,
   "id": "e90c4954",
   "metadata": {},
   "outputs": [],
   "source": [
    "from sklearn.cluster import AgglomerativeClustering\n",
    "clasificador1=AgglomerativeClustering(n_clusters=7)\n",
    "etiquetas1=clasificador1.fit_predict(trainC)"
   ]
  },
  {
   "cell_type": "code",
   "execution_count": 31,
   "id": "56fc604f",
   "metadata": {},
   "outputs": [
    {
     "data": {
      "text/plain": [
       "0.24359273197968387"
      ]
     },
     "execution_count": 31,
     "metadata": {},
     "output_type": "execute_result"
    }
   ],
   "source": [
    "from sklearn.metrics import silhouette_score\n",
    "sil1=silhouette_score(trainC, etiquetas1)\n",
    "sil1"
   ]
  },
  {
   "cell_type": "code",
   "execution_count": 32,
   "id": "013f9a26",
   "metadata": {},
   "outputs": [
    {
     "data": {
      "text/plain": [
       "0.27440811905914864"
      ]
     },
     "execution_count": 32,
     "metadata": {},
     "output_type": "execute_result"
    }
   ],
   "source": [
    "from sklearn.cluster import AgglomerativeClustering\n",
    "clasificador2=AgglomerativeClustering(n_clusters=6)\n",
    "etiquetas2=clasificador2.fit_predict(trainC)\n",
    "from sklearn.metrics import silhouette_score\n",
    "sil2=silhouette_score(trainC, etiquetas2)\n",
    "sil2"
   ]
  },
  {
   "cell_type": "code",
   "execution_count": 38,
   "id": "af6c0327",
   "metadata": {},
   "outputs": [
    {
     "data": {
      "text/plain": [
       "<seaborn.axisgrid.FacetGrid at 0x1d9d8aa7a88>"
      ]
     },
     "execution_count": 38,
     "metadata": {},
     "output_type": "execute_result"
    },
    {
     "data": {
      "image/png": "[encoded data removed]",
      "text/plain": [
       "<Figure size 360x360 with 1 Axes>"
      ]
     },
     "metadata": {
      "needs_background": "light"
     },
     "output_type": "display_data"
    }
   ],
   "source": [
    "silh = []\n",
    "for i in range(2,10):\n",
    "    clasificadorA = AgglomerativeClustering(n_clusters = i)\n",
    "    clasificadorA.fit(trainC)\n",
    "    etiquetasA=clasificadorA.labels_\n",
    "    silhProm=silhouette_score(trainC, etiquetasA)\n",
    "    silh.append(silhProm)\n",
    "sns.relplot(x=range(2,10),y=silh,kind='line')"
   ]
  },
  {
   "cell_type": "code",
   "execution_count": 43,
   "id": "09955e16",
   "metadata": {},
   "outputs": [],
   "source": [
    "def plot_dendrogram(model, **kwargs):\n",
    "    # Create linkage matrix and then plot the dendrogram\n",
    "\n",
    "    # create the counts of samples under each node\n",
    "    counts = np.zeros(model.children_.shape[0])\n",
    "    n_samples = len(model.labels_)\n",
    "    for i, merge in enumerate(model.children_):\n",
    "        current_count = 0\n",
    "        for child_idx in merge:\n",
    "            if child_idx < n_samples:\n",
    "                current_count += 1  # leaf node\n",
    "            else:\n",
    "                current_count += counts[child_idx - n_samples]\n",
    "        counts[i] = current_count\n",
    "\n",
    "    linkage_matrix = np.column_stack([model.children_, model.distances_,\n",
    "                                      counts]).astype(float)\n",
    "\n",
    "    # Plot the corresponding dendrogram\n",
    "    dendrogram(linkage_matrix, **kwargs)"
   ]
  },
  {
   "cell_type": "code",
   "execution_count": 45,
   "id": "7ed9e266",
   "metadata": {},
   "outputs": [],
   "source": [
    "clasificador2=AgglomerativeClustering(n_clusters=None)"
   ]
  },
  {
   "cell_type": "code",
   "execution_count": 48,
   "id": "8857702a",
   "metadata": {},
   "outputs": [
    {
     "data": {
      "text/plain": [
       "'fig, axs = plt.subplots(3, 1, figsize=(8, 8))\\nplot_dendrogram(clasificador2, color_threshold=0, ax=axs[0])\\nplt.tight_layout();'"
      ]
     },
     "execution_count": 48,
     "metadata": {},
     "output_type": "execute_result"
    }
   ],
   "source": [
    "\"\"\"fig, axs = plt.subplots(3, 1, figsize=(8, 8))\n",
    "plot_dendrogram(clasificador2, color_threshold=0, ax=axs[0])\n",
    "plt.tight_layout();\"\"\""
   ]
  },
  {
   "cell_type": "code",
   "execution_count": null,
   "id": "560a5bb3",
   "metadata": {},
   "outputs": [],
   "source": []
  }
 ],
 "metadata": {
  "kernelspec": {
   "display_name": "Python 3",
   "language": "python",
   "name": "python3"
  },
  "language_info": {
   "codemirror_mode": {
    "name": "ipython",
    "version": 3
   },
   "file_extension": ".py",
   "mimetype": "text/x-python",
   "name": "python",
   "nbconvert_exporter": "python",
   "pygments_lexer": "ipython3",
   "version": "3.7.10"
  }
 },
 "nbformat": 4,
 "nbformat_minor": 5
}
